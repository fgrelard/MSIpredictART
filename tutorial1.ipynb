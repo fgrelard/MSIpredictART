{
 "cells": [
  {
   "cell_type": "markdown",
   "id": "986c9ca8",
   "metadata": {
    "collapsed": false
   },
   "source": [
    "# Tutorial \n",
    "\n",
    "## Introduction\n",
    "\n",
    "`tutorial1.imzML` is a paint cross-section from paint model prepared at the Pratt Institute in 2008.The paint model is composed of 3 layer (ochre/linseed oil, lead white/casein, and gesso/collagen). The image was aquired on Orbitrap Q-Exactive with 5um spatial resolution. The dataset was peak picked and aligned using [Esmraldi](https://github.com/fgrelard/Esmraldi) tool-suite and library.\n",
    "\n",
    "In this tutorial, we want to obtain **the prediction** on an Mass Spectrometry Imaging paint layer image (`tutorial1_aligned.imzML`). The model has been already been trained using Lasso on several annotated MSI datasets, including `tutorial1_aligned.imzML`. The model coefficients and parameters are stored in the file `model_lasso.joblib`. A Gaussian Mixture Model has been fit onto the Lasso coefficients to get the \"Uncertain\" class, for both binder and pigment predictions (`model_lasso_gmm_binders.joblib` and `model_lasso_gmm_pigments.joblib`)."
   ]
  },
  {
   "cell_type": "markdown",
   "id": "257c79ae",
   "metadata": {
    "collapsed": false
   },
   "source": [
    "## Prediction\n",
    "\n",
    "The code below is contained in the `pls_test.py` and `evaluation_prediction_confusion.py` scripts. \n",
    "\n",
    "First, we import the necessary *Esmraldi* modules and define some utility functions."
   ]
  },
  {
   "cell_type": "code",
   "execution_count": 64,
   "id": "1714672f",
   "metadata": {
    "collapsed": false
   },
   "outputs": [],
   "source": [
    "import joblib\n",
    "import glob\n",
    "import pandas as pd\n",
    "import argparse\n",
    "import numpy as np\n",
    "import os\n",
    "import SimpleITK as sitk\n",
    "from sklearn.cross_decomposition import PLSRegression, CCA\n",
    "from sklearn.preprocessing import StandardScaler\n",
    "import esmraldi.imzmlio as io\n",
    "import esmraldi.utils as utils\n",
    "import esmraldi.imageutils as imageutils\n",
    "import esmraldi.fusion as fusion\n",
    "import esmraldi.spectraprocessing as sp\n",
    "import matplotlib.pyplot as plt\n",
    "from matplotlib import colors\n",
    "import matplotlib\n",
    "from sklearn.cluster import DBSCAN\n",
    "from sklearn.mixture import GaussianMixture, BayesianGaussianMixture\n",
    "from skimage.filters import threshold_multiotsu\n",
    "from skimage.morphology import opening, closing, erosion, dilation\n",
    "from scipy.ndimage import binary_fill_holes\n",
    "from sklearn.metrics import confusion_matrix\n",
    "\n",
    "def normalize_flatten(spectra, coordinates, shape, normalization_tic=True, normalization_minmax=True):\n",
    "    if normalization:\n",
    "        print(\"Normalization TIC\")\n",
    "        spectra = sp.normalization_tic(spectra, inplace=True)\n",
    "    full_spectra = io.get_full_spectra_dense(spectra, coordinates, shape)\n",
    "    images = io.get_images_from_spectra(full_spectra, shape)\n",
    "    if normalization_minmax:\n",
    "        images = io.normalize(images)\n",
    "    images = images.astype(np.float128) / 255.0\n",
    "    image_flatten = fusion.flatten(images, is_spectral=True).T\n",
    "    return image_flatten\n",
    "\n",
    "def read_imzml(input_name, normalization):\n",
    "    if input_name.lower().endswith(\".imzml\"):\n",
    "        imzml = io.open_imzml(input_name)\n",
    "        spectra = io.get_spectra(imzml)\n",
    "        coordinates = imzml.coordinates\n",
    "        max_x = max(coordinates, key=lambda item:item[0])[0]\n",
    "        max_y = max(coordinates, key=lambda item:item[1])[1]\n",
    "        max_z = max(coordinates, key=lambda item:item[2])[2]\n",
    "        shape = (max_x, max_y, max_z)\n",
    "        mzs = np.unique(np.hstack(spectra[:, 0]))\n",
    "        mzs = mzs[mzs>0]\n",
    "    return spectra, mzs, shape, imzml.coordinates\n",
    "\n",
    "def indices_peaks(peaks, other_peaks):\n",
    "    indices = utils.indices_search_sorted(other_peaks, peaks)\n",
    "    current_step = 14 * other_peaks / 1e6\n",
    "    indices_ppm = np.abs(peaks[indices] - other_peaks) < current_step\n",
    "    indices[~indices_ppm] = -1\n",
    "    return indices\n",
    "\n",
    "def extract_parent_paths(imzml_name, shape, names):\n",
    "    paths = []\n",
    "    regions = np.zeros(shape[:-1] + (len(names),))\n",
    "    parent_path = os.path.dirname(imzml_name)\n",
    "    # mask_path = parent_path + os.path.sep + \"masks/msi/*.tif\"\n",
    "    mask_path = parent_path + os.path.sep + \"masks/resized/*.tif\"\n",
    "    files = glob.glob(mask_path)\n",
    "    binders=[]\n",
    "    pigments=[]\n",
    "    for f in files:\n",
    "        name = os.path.splitext(os.path.basename(f))[0]\n",
    "        binder, pigment = name.split(\"_\")\n",
    "        image = sitk.GetArrayFromImage(sitk.ReadImage(f)).T\n",
    "        ind_binder = np.where(names == binder)[0][0]\n",
    "        binders.append(binder)\n",
    "        ind_pigment = np.where(names == pigment)[0][0]\n",
    "        pigments.append(pigment)\n",
    "        regions[..., ind_binder] += image\n",
    "        regions[..., ind_pigment] += image\n",
    "    return regions, binders, pigments\n",
    "\n",
    "def get_mask(index, masks, uncertain_label, hide_image):\n",
    "    if index != uncertain_label+1:\n",
    "        mask = masks[..., index]\n",
    "    else:\n",
    "        return np.zeros_like(masks[..., 0])\n",
    "    mask = np.where(mask>0, 1, 0)\n",
    "    mask -= hide_image\n",
    "    mask = np.where(mask>0, 1, 0)\n",
    "    return mask\n",
    "\n",
    "def get_prediction(index, label_image, uncertain_label):\n",
    "    cond = (label_image == index)\n",
    "    pred = np.where(cond, 1, 0)\n",
    "    return pred\n"
   ]
  },
  {
   "cell_type": "markdown",
   "id": "b0f034f6-9c74-4176-9bbd-16b7c6827ee4",
   "metadata": {
    "collapsed": false
   },
   "source": [
    "Next, we input the path to the datasets and models."
   ]
  },
  {
   "cell_type": "code",
   "execution_count": 50,
   "id": "d5cd8b05-8c41-46c7-8376-58a457c309d3",
   "metadata": {
    "collapsed": false
   },
   "outputs": [],
   "source": [
    "#Path to the model trained previously\n",
    "input_name = \"tutorial/models/model_lasso.joblib\"\n",
    "#Actual MSI dataset (imzML)\n",
    "target_name = \"tutorial/tutorial1_aligned.imzML\"\n",
    "\n",
    "#Whether to normalize or not using TIC normalization\n",
    "normalization = True\n",
    "\n",
    "#Binders or pigments\n",
    "analysis_names = [\"Casein\", \"Collagen\", \"ET\", \"LO\", \"Matrix\"]\n",
    "\n",
    "#GMM model (optional)\n",
    "gmm_name = \"tutorial/models/model_lasso_gmm_binders.joblib\"\n",
    "\n",
    "#Confidence probability threshold to determine the uncertain class\n",
    "proba = 0.95"
   ]
  },
  {
   "cell_type": "markdown",
   "id": "53aa3ac7-8870-482e-95b9-7fa399fb848d",
   "metadata": {
    "collapsed": false
   },
   "source": [
    "And run the prediction."
   ]
  },
  {
   "cell_type": "code",
   "execution_count": 51,
   "id": "4fd40202-f20f-48c2-adc9-71915300904d",
   "metadata": {
    "collapsed": false
   },
   "outputs": [
    {
     "name": "stdout",
     "output_type": "stream",
     "text": [
      "Running...\n"
     ]
    },
    {
     "name": "stdout",
     "output_type": "stream",
     "text": [
      "Normalization TIC\n"
     ]
    },
    {
     "data": {
      "image/png": "[encoded data removed]",
      "text/plain": [
       "<Figure size 640x480 with 1 Axes>"
      ]
     },
     "metadata": {},
     "output_type": "display_data"
    },
    {
     "name": "stdout",
     "output_type": "stream",
     "text": [
      "Done\n"
     ]
    }
   ],
   "source": [
    "print(\"Running...\")\n",
    "mzs_name = os.path.splitext(input_name)[0] + \"_mzs.csv\"\n",
    "names_name = os.path.splitext(input_name)[0] + \"_names.csv\"\n",
    "peaks = np.loadtxt(mzs_name)\n",
    "names = np.loadtxt(names_name, dtype=str)\n",
    "\n",
    "\n",
    "cm = plt.get_cmap(\"Dark2\")\n",
    "norm = matplotlib.colors.Normalize(vmin=0, vmax=len(analysis_names))\n",
    "spectra, mzs, shape, coords = read_imzml(target_name, normalization)\n",
    "\n",
    "\n",
    "indices = indices_peaks(mzs, peaks)\n",
    "\n",
    "target_im = normalize_flatten(spectra, coords, shape, normalization_tic=normalization, normalization_minmax=True)\n",
    "blank_image = np.zeros((target_im.shape[0], 1))\n",
    "target_im = np.hstack((target_im, blank_image))\n",
    "target_im = target_im[..., indices]\n",
    "\n",
    "# Load data from file\n",
    "regression = joblib.load(input_name)\n",
    "coef = regression.coef_\n",
    "if coef.shape[0] < coef.shape[1]:\n",
    "    coef = coef.T\n",
    "\n",
    "\n",
    "data = np.column_stack((peaks, coef))\n",
    "peaks_coef_name = os.path.dirname(outname) + os.path.sep + \"coef.csv\"\n",
    "np.savetxt(peaks_coef_name, data, header=\"mzs,\"+\",\".join(names), delimiter=\",\", comments=\"\")\n",
    "\n",
    "out = regression.predict(target_im)\n",
    "\n",
    "\n",
    "if analysis_names is not None:\n",
    "    inside = np.in1d(names, analysis_names)\n",
    "    names = names[inside]\n",
    "    out = out[..., inside]\n",
    "\n",
    "if \"ET&LO\" in names:\n",
    "    order = np.array([0, 1, 3, 4, 2])\n",
    "    names = names[order]\n",
    "    out = out[..., order]\n",
    "\n",
    "\n",
    "labels = np.argmax(out, axis=-1)\n",
    "\n",
    "array_colors = np.array(cm.colors)\n",
    "names_array = np.array(analysis_names)\n",
    "ind_mat = np.where((names_array == \"Matrix\") | (names_array == \"Tape\"))[0]\n",
    "black = np.array([0.15, 0.15, 0.15])\n",
    "array_colors[ind_mat, :] = black\n",
    "cm = colors.ListedColormap(array_colors)\n",
    "\n",
    "if gmm_name is not None:\n",
    "    gmm = joblib.load(gmm_name)\n",
    "    labels = gmm.predict(out)\n",
    "    probas = gmm.predict_proba(out)\n",
    "    labels = np.argsort(probas, axis=-1)[..., -1]\n",
    "    uncertain_label = len(analysis_names)\n",
    "    if proba > 0:\n",
    "        labels[probas.max(axis=-1) < proba] = uncertain_label\n",
    "    label_image = np.reshape(labels, shape[:-1]).T\n",
    "    array_colors = np.array(cm.colors)\n",
    "    gray = np.array([0.3, 0.3, 0.3])\n",
    "    array_colors[uncertain_label, :] = gray\n",
    "    cm = colors.ListedColormap(array_colors)\n",
    "    plt.imshow(label_image, cmap=cm, vmin=0, vmax=cm.N, interpolation=\"nearest\")\n",
    "\n",
    "    names = np.append(names, [\"Uncertain\"])\n",
    "else:\n",
    "    min_value, max_value = np.amin(out, axis=0), np.amax(out, axis=0)\n",
    "    min_value, max_value = np.amin(out), np.amax(out)\n",
    "    opacity = (out - min_value) / (max_value - min_value)\n",
    "    opacity = np.take_along_axis(opacity, labels[:, None], axis=-1)\n",
    "\n",
    "    opacity_image = np.reshape(opacity, shape[:-1]).T.astype(np.float64)\n",
    "    label_image = np.reshape(labels, shape[:-1]).T\n",
    "\n",
    "    blacks = np.zeros_like(label_image)\n",
    "    plt.imshow(blacks, cmap=\"gray\")\n",
    "    plt.imshow(label_image, cmap=cm, vmin=0, vmax=cm.N, alpha=opacity_image,  interpolation=\"nearest\")\n",
    "\n",
    "handles = [plt.Rectangle((0, 0), 0, 0, color=cm(int(i)), label=name) for i, name in enumerate(analysis_names)]\n",
    "\n",
    "plt.legend(handles=handles, title=\"Binders\", loc='center left', bbox_to_anchor=(1, 0.5))\n",
    "plt.axis(\"off\")\n",
    "plt.show()\n",
    "print(\"Done\")"
   ]
  }
 ],
 "metadata": {
  "kernelspec": {
   "argv": [
    "python",
    "-m",
    "ipykernel_launcher",
    "-f",
    "{connection_file}"
   ],
   "display_name": "Python 3 (ipykernel)",
   "env": null,
   "interrupt_mode": "signal",
   "language": "python",
   "metadata": {
    "debugger": true
   },
   "name": "python3"
  },
  "language_info": {
   "codemirror_mode": {
    "name": "ipython",
    "version": 3
   },
   "file_extension": ".py",
   "mimetype": "text/x-python",
   "name": "python",
   "nbconvert_exporter": "python",
   "pygments_lexer": "ipython3",
   "version": "3.9.12"
  },
  "name": "tutorial1.ipynb"
 },
 "nbformat": 4,
 "nbformat_minor": 5
}
